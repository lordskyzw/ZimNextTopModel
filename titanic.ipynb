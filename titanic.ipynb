{
 "cells": [
  {
   "cell_type": "code",
   "execution_count": 1,
   "id": "27e83757",
   "metadata": {
    "_cell_guid": "b1076dfc-b9ad-4769-8c92-a6c4dae69d19",
    "_uuid": "8f2839f25d086af736a60e9eeb907d3b93b6e0e5",
    "execution": {
     "iopub.execute_input": "2024-02-26T22:34:01.348798Z",
     "iopub.status.busy": "2024-02-26T22:34:01.348431Z",
     "iopub.status.idle": "2024-02-26T22:34:02.218636Z",
     "shell.execute_reply": "2024-02-26T22:34:02.217319Z"
    },
    "jupyter": {
     "source_hidden": true
    },
    "papermill": {
     "duration": 0.879994,
     "end_time": "2024-02-26T22:34:02.222745",
     "exception": false,
     "start_time": "2024-02-26T22:34:01.342751",
     "status": "completed"
    },
    "tags": []
   },
   "outputs": [
    {
     "name": "stdout",
     "output_type": "stream",
     "text": [
      "/kaggle/input/titanic/train.csv\n",
      "/kaggle/input/titanic/test.csv\n",
      "/kaggle/input/titanic/gender_submission.csv\n"
     ]
    }
   ],
   "source": [
    "# This Python 3 environment comes with many helpful analytics libraries installed\n",
    "# It is defined by the kaggle/python Docker image: https://github.com/kaggle/docker-python\n",
    "# For example, here's several helpful packages to load\n",
    "\n",
    "import numpy as np # linear algebra\n",
    "import pandas as pd # data processing, CSV file I/O (e.g. pd.read_csv)\n",
    "\n",
    "# Input data files are available in the read-only \"../input/\" directory\n",
    "# For example, running this (by clicking run or pressing Shift+Enter) will list all files under the input directory\n",
    "\n",
    "import os\n",
    "for dirname, _, filenames in os.walk('/kaggle/input'):\n",
    "    for filename in filenames:\n",
    "        print(os.path.join(dirname, filename))\n",
    "\n",
    "# You can write up to 20GB to the current directory (/kaggle/working/) that gets preserved as output when you create a version using \"Save & Run All\" \n",
    "# You can also write temporary files to /kaggle/temp/, but they won't be saved outside of the current session"
   ]
  },
  {
   "cell_type": "code",
   "execution_count": 2,
   "id": "78f8c15e",
   "metadata": {
    "execution": {
     "iopub.execute_input": "2024-02-26T22:34:02.231552Z",
     "iopub.status.busy": "2024-02-26T22:34:02.231035Z",
     "iopub.status.idle": "2024-02-26T22:34:02.252908Z",
     "shell.execute_reply": "2024-02-26T22:34:02.251817Z"
    },
    "papermill": {
     "duration": 0.029051,
     "end_time": "2024-02-26T22:34:02.255598",
     "exception": false,
     "start_time": "2024-02-26T22:34:02.226547",
     "status": "completed"
    },
    "tags": []
   },
   "outputs": [],
   "source": [
    "trainPath = '/kaggle/input/titanic/train.csv'\n",
    "df = pd.read_csv(trainPath)"
   ]
  },
  {
   "cell_type": "code",
   "execution_count": 3,
   "id": "ffae4075",
   "metadata": {
    "execution": {
     "iopub.execute_input": "2024-02-26T22:34:02.264289Z",
     "iopub.status.busy": "2024-02-26T22:34:02.263896Z",
     "iopub.status.idle": "2024-02-26T22:34:02.278644Z",
     "shell.execute_reply": "2024-02-26T22:34:02.277612Z"
    },
    "papermill": {
     "duration": 0.022274,
     "end_time": "2024-02-26T22:34:02.281418",
     "exception": false,
     "start_time": "2024-02-26T22:34:02.259144",
     "status": "completed"
    },
    "tags": []
   },
   "outputs": [],
   "source": [
    "# drop rows with  missing values or non-applicable\n",
    "clean_df = df.dropna()"
   ]
  },
  {
   "cell_type": "code",
   "execution_count": 4,
   "id": "5fe471ec",
   "metadata": {
    "execution": {
     "iopub.execute_input": "2024-02-26T22:34:02.290964Z",
     "iopub.status.busy": "2024-02-26T22:34:02.290120Z",
     "iopub.status.idle": "2024-02-26T22:34:02.310776Z",
     "shell.execute_reply": "2024-02-26T22:34:02.309685Z"
    },
    "papermill": {
     "duration": 0.033257,
     "end_time": "2024-02-26T22:34:02.318266",
     "exception": false,
     "start_time": "2024-02-26T22:34:02.285009",
     "status": "completed"
    },
    "tags": []
   },
   "outputs": [],
   "source": [
    "#when i watched the titanic, they tried to save the women and children first, so i shall train the model\n",
    "#on these 2 features first, then i try to add other feautures like Pclass \n",
    "\n",
    "features = ['Sex', 'Age']\n",
    "target = clean_df.Survived\n",
    "criteria = clean_df[features]\n",
    "#since we have a few categorical data, we use one-hot encoding \n",
    "\n",
    "crit = pd.get_dummies(criteria)"
   ]
  },
  {
   "cell_type": "code",
   "execution_count": 5,
   "id": "8a27669e",
   "metadata": {
    "execution": {
     "iopub.execute_input": "2024-02-26T22:34:02.328675Z",
     "iopub.status.busy": "2024-02-26T22:34:02.328197Z",
     "iopub.status.idle": "2024-02-26T22:34:04.179310Z",
     "shell.execute_reply": "2024-02-26T22:34:04.178152Z"
    },
    "papermill": {
     "duration": 1.859008,
     "end_time": "2024-02-26T22:34:04.181839",
     "exception": false,
     "start_time": "2024-02-26T22:34:02.322831",
     "status": "completed"
    },
    "tags": []
   },
   "outputs": [
    {
     "data": {
      "text/html": [
       "<style>#sk-container-id-1 {color: black;background-color: white;}#sk-container-id-1 pre{padding: 0;}#sk-container-id-1 div.sk-toggleable {background-color: white;}#sk-container-id-1 label.sk-toggleable__label {cursor: pointer;display: block;width: 100%;margin-bottom: 0;padding: 0.3em;box-sizing: border-box;text-align: center;}#sk-container-id-1 label.sk-toggleable__label-arrow:before {content: \"▸\";float: left;margin-right: 0.25em;color: #696969;}#sk-container-id-1 label.sk-toggleable__label-arrow:hover:before {color: black;}#sk-container-id-1 div.sk-estimator:hover label.sk-toggleable__label-arrow:before {color: black;}#sk-container-id-1 div.sk-toggleable__content {max-height: 0;max-width: 0;overflow: hidden;text-align: left;background-color: #f0f8ff;}#sk-container-id-1 div.sk-toggleable__content pre {margin: 0.2em;color: black;border-radius: 0.25em;background-color: #f0f8ff;}#sk-container-id-1 input.sk-toggleable__control:checked~div.sk-toggleable__content {max-height: 200px;max-width: 100%;overflow: auto;}#sk-container-id-1 input.sk-toggleable__control:checked~label.sk-toggleable__label-arrow:before {content: \"▾\";}#sk-container-id-1 div.sk-estimator input.sk-toggleable__control:checked~label.sk-toggleable__label {background-color: #d4ebff;}#sk-container-id-1 div.sk-label input.sk-toggleable__control:checked~label.sk-toggleable__label {background-color: #d4ebff;}#sk-container-id-1 input.sk-hidden--visually {border: 0;clip: rect(1px 1px 1px 1px);clip: rect(1px, 1px, 1px, 1px);height: 1px;margin: -1px;overflow: hidden;padding: 0;position: absolute;width: 1px;}#sk-container-id-1 div.sk-estimator {font-family: monospace;background-color: #f0f8ff;border: 1px dotted black;border-radius: 0.25em;box-sizing: border-box;margin-bottom: 0.5em;}#sk-container-id-1 div.sk-estimator:hover {background-color: #d4ebff;}#sk-container-id-1 div.sk-parallel-item::after {content: \"\";width: 100%;border-bottom: 1px solid gray;flex-grow: 1;}#sk-container-id-1 div.sk-label:hover label.sk-toggleable__label {background-color: #d4ebff;}#sk-container-id-1 div.sk-serial::before {content: \"\";position: absolute;border-left: 1px solid gray;box-sizing: border-box;top: 0;bottom: 0;left: 50%;z-index: 0;}#sk-container-id-1 div.sk-serial {display: flex;flex-direction: column;align-items: center;background-color: white;padding-right: 0.2em;padding-left: 0.2em;position: relative;}#sk-container-id-1 div.sk-item {position: relative;z-index: 1;}#sk-container-id-1 div.sk-parallel {display: flex;align-items: stretch;justify-content: center;background-color: white;position: relative;}#sk-container-id-1 div.sk-item::before, #sk-container-id-1 div.sk-parallel-item::before {content: \"\";position: absolute;border-left: 1px solid gray;box-sizing: border-box;top: 0;bottom: 0;left: 50%;z-index: -1;}#sk-container-id-1 div.sk-parallel-item {display: flex;flex-direction: column;z-index: 1;position: relative;background-color: white;}#sk-container-id-1 div.sk-parallel-item:first-child::after {align-self: flex-end;width: 50%;}#sk-container-id-1 div.sk-parallel-item:last-child::after {align-self: flex-start;width: 50%;}#sk-container-id-1 div.sk-parallel-item:only-child::after {width: 0;}#sk-container-id-1 div.sk-dashed-wrapped {border: 1px dashed gray;margin: 0 0.4em 0.5em 0.4em;box-sizing: border-box;padding-bottom: 0.4em;background-color: white;}#sk-container-id-1 div.sk-label label {font-family: monospace;font-weight: bold;display: inline-block;line-height: 1.2em;}#sk-container-id-1 div.sk-label-container {text-align: center;}#sk-container-id-1 div.sk-container {/* jupyter's `normalize.less` sets `[hidden] { display: none; }` but bootstrap.min.css set `[hidden] { display: none !important; }` so we also need the `!important` here to be able to override the default hidden behavior on the sphinx rendered scikit-learn.org. See: https://github.com/scikit-learn/scikit-learn/issues/21755 */display: inline-block !important;position: relative;}#sk-container-id-1 div.sk-text-repr-fallback {display: none;}</style><div id=\"sk-container-id-1\" class=\"sk-top-container\"><div class=\"sk-text-repr-fallback\"><pre>RandomForestRegressor(random_state=1)</pre><b>In a Jupyter environment, please rerun this cell to show the HTML representation or trust the notebook. <br />On GitHub, the HTML representation is unable to render, please try loading this page with nbviewer.org.</b></div><div class=\"sk-container\" hidden><div class=\"sk-item\"><div class=\"sk-estimator sk-toggleable\"><input class=\"sk-toggleable__control sk-hidden--visually\" id=\"sk-estimator-id-1\" type=\"checkbox\" checked><label for=\"sk-estimator-id-1\" class=\"sk-toggleable__label sk-toggleable__label-arrow\">RandomForestRegressor</label><div class=\"sk-toggleable__content\"><pre>RandomForestRegressor(random_state=1)</pre></div></div></div></div></div>"
      ],
      "text/plain": [
       "RandomForestRegressor(random_state=1)"
      ]
     },
     "execution_count": 5,
     "metadata": {},
     "output_type": "execute_result"
    }
   ],
   "source": [
    "#training the RandomForest model\n",
    "from sklearn.ensemble import RandomForestRegressor\n",
    "from sklearn.metrics import mean_absolute_error\n",
    "from sklearn.model_selection import train_test_split\n",
    "\n",
    "model = RandomForestRegressor(random_state=1)\n",
    "X_train, X_test, y_train, y_test = train_test_split(crit, target, test_size=0.2, random_state=1)\n",
    "model.fit(X_train, y_train)"
   ]
  },
  {
   "cell_type": "code",
   "execution_count": 6,
   "id": "5b8aa630",
   "metadata": {
    "execution": {
     "iopub.execute_input": "2024-02-26T22:34:04.190583Z",
     "iopub.status.busy": "2024-02-26T22:34:04.190212Z",
     "iopub.status.idle": "2024-02-26T22:34:04.204217Z",
     "shell.execute_reply": "2024-02-26T22:34:04.202838Z"
    },
    "papermill": {
     "duration": 0.021237,
     "end_time": "2024-02-26T22:34:04.206618",
     "exception": false,
     "start_time": "2024-02-26T22:34:04.185381",
     "status": "completed"
    },
    "tags": []
   },
   "outputs": [
    {
     "name": "stdout",
     "output_type": "stream",
     "text": [
      "0.21179729729729732\n"
     ]
    }
   ],
   "source": [
    "preds = model.predict(X_test)\n",
    "print(mean_absolute_error(y_test, preds))"
   ]
  }
 ],
 "metadata": {
  "kaggle": {
   "accelerator": "none",
   "dataSources": [
    {
     "databundleVersionId": 26502,
     "sourceId": 3136,
     "sourceType": "competition"
    }
   ],
   "dockerImageVersionId": 30646,
   "isGpuEnabled": false,
   "isInternetEnabled": true,
   "language": "python",
   "sourceType": "notebook"
  },
  "kernelspec": {
   "display_name": "Python 3",
   "language": "python",
   "name": "python3"
  },
  "language_info": {
   "codemirror_mode": {
    "name": "ipython",
    "version": 3
   },
   "file_extension": ".py",
   "mimetype": "text/x-python",
   "name": "python",
   "nbconvert_exporter": "python",
   "pygments_lexer": "ipython3",
   "version": "3.10.13"
  },
  "papermill": {
   "default_parameters": {},
   "duration": 9.063381,
   "end_time": "2024-02-26T22:34:07.492846",
   "environment_variables": {},
   "exception": null,
   "input_path": "__notebook__.ipynb",
   "output_path": "__notebook__.ipynb",
   "parameters": {},
   "start_time": "2024-02-26T22:33:58.429465",
   "version": "2.5.0"
  }
 },
 "nbformat": 4,
 "nbformat_minor": 5
}
